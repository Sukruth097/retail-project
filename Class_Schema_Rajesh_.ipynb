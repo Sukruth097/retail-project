{
 "cells": [
  {
   "cell_type": "code",
   "execution_count": 1,
   "id": "191d6c79",
   "metadata": {},
   "outputs": [],
   "source": [
    "import os,sys,stat\n",
    "import pandas as pd\n",
    "import glob\n",
    "import json\n",
    "import shutil"
   ]
  },
  {
   "cell_type": "code",
   "execution_count": 2,
   "id": "1ab70e71",
   "metadata": {},
   "outputs": [
    {
     "data": {
      "text/plain": [
       "['Retail-data.csv', 'Retail-data1.csv', 'Retail-data2.csv']"
      ]
     },
     "execution_count": 2,
     "metadata": {},
     "output_type": "execute_result"
    }
   ],
   "source": [
    "#How to check files and folder in directory\n",
    "list_of_files = os.listdir(path= \"source\")\n",
    "list_of_files"
   ]
  },
  {
   "cell_type": "code",
   "execution_count": 3,
   "id": "b5f72432",
   "metadata": {},
   "outputs": [],
   "source": [
    "## Main Task\n",
    "##Check All columns\n",
    "##column length\n",
    "# Datatypes"
   ]
  },
  {
   "cell_type": "code",
   "execution_count": 4,
   "id": "9ff15b79",
   "metadata": {},
   "outputs": [],
   "source": [
    "df = pd.read_csv('Retail-data.csv')"
   ]
  },
  {
   "cell_type": "code",
   "execution_count": 5,
   "id": "c734a4dc",
   "metadata": {},
   "outputs": [
    {
     "data": {
      "text/plain": [
       "['hour',\n",
       " 'order_id',\n",
       " 'customer_id',\n",
       " 'product_id',\n",
       " 'product_price',\n",
       " 'variant_id',\n",
       " 'orders',\n",
       " 'gross_sales',\n",
       " 'discounts',\n",
       " 'returns',\n",
       " 'net_sales',\n",
       " 'shipping',\n",
       " 'taxes',\n",
       " 'total_sales',\n",
       " 'ordered_item_quantity',\n",
       " 'net_quantity',\n",
       " 'returned_item_quantity',\n",
       " 'order_name',\n",
       " 'product_type',\n",
       " 'product_title',\n",
       " 'product_vendor',\n",
       " 'variant_title',\n",
       " 'api_client_title']"
      ]
     },
     "execution_count": 5,
     "metadata": {},
     "output_type": "execute_result"
    }
   ],
   "source": [
    "list(df)"
   ]
  },
  {
   "cell_type": "code",
   "execution_count": 6,
   "id": "a94d5972",
   "metadata": {},
   "outputs": [
    {
     "data": {
      "text/plain": [
       "array([dtype('O'), dtype('float64'), dtype('float64'), dtype('float64'),\n",
       "       dtype('float64'), dtype('float64'), dtype('int64'),\n",
       "       dtype('float64'), dtype('float64'), dtype('float64'),\n",
       "       dtype('float64'), dtype('float64'), dtype('float64'),\n",
       "       dtype('float64'), dtype('int64'), dtype('int64'), dtype('int64'),\n",
       "       dtype('O'), dtype('O'), dtype('O'), dtype('O'), dtype('O'),\n",
       "       dtype('O')], dtype=object)"
      ]
     },
     "execution_count": 6,
     "metadata": {},
     "output_type": "execute_result"
    }
   ],
   "source": [
    "df.dtypes.values"
   ]
  },
  {
   "cell_type": "code",
   "execution_count": 7,
   "id": "6fd88667",
   "metadata": {},
   "outputs": [],
   "source": [
    "cloumns_datatypes = list(map(lambda x:str(x).replace('dtype(',\"\").replace(')',\"\"),df.dtypes.values))"
   ]
  },
  {
   "cell_type": "code",
   "execution_count": 8,
   "id": "6937d536",
   "metadata": {},
   "outputs": [
    {
     "data": {
      "text/plain": [
       "['object',\n",
       " 'float64',\n",
       " 'float64',\n",
       " 'float64',\n",
       " 'float64',\n",
       " 'float64',\n",
       " 'int64',\n",
       " 'float64',\n",
       " 'float64',\n",
       " 'float64',\n",
       " 'float64',\n",
       " 'float64',\n",
       " 'float64',\n",
       " 'float64',\n",
       " 'int64',\n",
       " 'int64',\n",
       " 'int64',\n",
       " 'object',\n",
       " 'object',\n",
       " 'object',\n",
       " 'object',\n",
       " 'object',\n",
       " 'object']"
      ]
     },
     "execution_count": 8,
     "metadata": {},
     "output_type": "execute_result"
    }
   ],
   "source": [
    "cloumns_datatypes"
   ]
  },
  {
   "cell_type": "code",
   "execution_count": 9,
   "id": "07f1501d",
   "metadata": {},
   "outputs": [
    {
     "data": {
      "text/plain": [
       "{'hour': 'object',\n",
       " 'order_id': 'float64',\n",
       " 'customer_id': 'float64',\n",
       " 'product_id': 'float64',\n",
       " 'product_price': 'float64',\n",
       " 'variant_id': 'float64',\n",
       " 'orders': 'int64',\n",
       " 'gross_sales': 'float64',\n",
       " 'discounts': 'float64',\n",
       " 'returns': 'float64',\n",
       " 'net_sales': 'float64',\n",
       " 'shipping': 'float64',\n",
       " 'taxes': 'float64',\n",
       " 'total_sales': 'float64',\n",
       " 'ordered_item_quantity': 'int64',\n",
       " 'net_quantity': 'int64',\n",
       " 'returned_item_quantity': 'int64',\n",
       " 'order_name': 'object',\n",
       " 'product_type': 'object',\n",
       " 'product_title': 'object',\n",
       " 'product_vendor': 'object',\n",
       " 'variant_title': 'object',\n",
       " 'api_client_title': 'object'}"
      ]
     },
     "execution_count": 9,
     "metadata": {},
     "output_type": "execute_result"
    }
   ],
   "source": [
    "dict_columns=dict(zip(list(df),cloumns_datatypes))\n",
    "dict_columns"
   ]
  },
  {
   "cell_type": "code",
   "execution_count": 10,
   "id": "ada31ce8",
   "metadata": {},
   "outputs": [
    {
     "data": {
      "text/plain": [
       "{'columns': {'hour': 'object',\n",
       "  'order_id': 'float64',\n",
       "  'customer_id': 'float64',\n",
       "  'product_id': 'float64',\n",
       "  'product_price': 'float64',\n",
       "  'variant_id': 'float64',\n",
       "  'orders': 'int64',\n",
       "  'gross_sales': 'float64',\n",
       "  'discounts': 'float64',\n",
       "  'returns': 'float64',\n",
       "  'net_sales': 'float64',\n",
       "  'shipping': 'float64',\n",
       "  'taxes': 'float64',\n",
       "  'total_sales': 'float64',\n",
       "  'ordered_item_quantity': 'int64',\n",
       "  'net_quantity': 'int64',\n",
       "  'returned_item_quantity': 'int64',\n",
       "  'order_name': 'object',\n",
       "  'product_type': 'object',\n",
       "  'product_title': 'object',\n",
       "  'product_vendor': 'object',\n",
       "  'variant_title': 'object',\n",
       "  'api_client_title': 'object'}}"
      ]
     },
     "execution_count": 10,
     "metadata": {},
     "output_type": "execute_result"
    }
   ],
   "source": [
    "columns = {\"columns\":dict_columns}\n",
    "columns"
   ]
  },
  {
   "cell_type": "code",
   "execution_count": 11,
   "id": "fd787473",
   "metadata": {},
   "outputs": [
    {
     "data": {
      "text/plain": [
       "{'Samplefilename': 'Retail-data1.csv', 'Number of Columns': 23}"
      ]
     },
     "execution_count": 11,
     "metadata": {},
     "output_type": "execute_result"
    }
   ],
   "source": [
    "JSON_Schema = {\n",
    "    \"Samplefilename\":\"Retail-data1.csv\",\n",
    "      \"Number of Columns\" :23\n",
    "}\n",
    "JSON_Schema"
   ]
  },
  {
   "cell_type": "code",
   "execution_count": 12,
   "id": "26ada4cc",
   "metadata": {},
   "outputs": [],
   "source": [
    "JSON_Schema.update(columns)"
   ]
  },
  {
   "cell_type": "code",
   "execution_count": 13,
   "id": "213f62a0",
   "metadata": {},
   "outputs": [
    {
     "data": {
      "text/plain": [
       "{'Samplefilename': 'Retail-data1.csv',\n",
       " 'Number of Columns': 23,\n",
       " 'columns': {'hour': 'object',\n",
       "  'order_id': 'float64',\n",
       "  'customer_id': 'float64',\n",
       "  'product_id': 'float64',\n",
       "  'product_price': 'float64',\n",
       "  'variant_id': 'float64',\n",
       "  'orders': 'int64',\n",
       "  'gross_sales': 'float64',\n",
       "  'discounts': 'float64',\n",
       "  'returns': 'float64',\n",
       "  'net_sales': 'float64',\n",
       "  'shipping': 'float64',\n",
       "  'taxes': 'float64',\n",
       "  'total_sales': 'float64',\n",
       "  'ordered_item_quantity': 'int64',\n",
       "  'net_quantity': 'int64',\n",
       "  'returned_item_quantity': 'int64',\n",
       "  'order_name': 'object',\n",
       "  'product_type': 'object',\n",
       "  'product_title': 'object',\n",
       "  'product_vendor': 'object',\n",
       "  'variant_title': 'object',\n",
       "  'api_client_title': 'object'}}"
      ]
     },
     "execution_count": 13,
     "metadata": {},
     "output_type": "execute_result"
    }
   ],
   "source": [
    "JSON_Schema"
   ]
  },
  {
   "cell_type": "code",
   "execution_count": 14,
   "id": "6b998ad7",
   "metadata": {},
   "outputs": [],
   "source": [
    "with open(\"Schema.json\", \"w\") as jsonFile:\n",
    "    json.dump(JSON_Schema, jsonFile, indent=1)"
   ]
  },
  {
   "cell_type": "code",
   "execution_count": 15,
   "id": "965c513d",
   "metadata": {},
   "outputs": [
    {
     "data": {
      "text/plain": [
       "['Retail-data.csv', 'Retail-data1.csv', 'Retail-data2.csv']"
      ]
     },
     "execution_count": 15,
     "metadata": {},
     "output_type": "execute_result"
    }
   ],
   "source": [
    "list_of_files"
   ]
  },
  {
   "cell_type": "code",
   "execution_count": 19,
   "id": "045575e8",
   "metadata": {},
   "outputs": [
    {
     "data": {
      "text/plain": [
       "'source = \"C:\\\\Users\\\\mira\\\\Desktop\\\\Dbanyan\\\\Schema\\\\source\\\\\"\\nmatched = \"C:\\\\Users\\\\mira\\\\Desktop\\\\Dbanyan\\\\Schema\\\\matched\\\\\"\\nunmatched = \"C:\\\\Users\\\\mira\\\\Desktop\\\\Dbanyan\\\\Schema\\\\unmatched\\\\\"\\nfor file_name in os.listdir(source):\\n    source = \"C:\\\\Users\\\\mira\\\\Desktop\\\\Dbanyan\\\\Schema\\\\source\\\\\"\\n    source = source + file_name\\n    files = pd.read_csv(source)\\n    matched=matched\\n    unmatched=unmatched\\n    if os.path.isfile(source):\\n        if JSON_Schema[\\'columns\\'] != dict(files.dtypes):\\n            shutil.copy(source,unmatched)\\n        else:\\n            shutil.copy(source,matched)\\n            '"
      ]
     },
     "execution_count": 19,
     "metadata": {},
     "output_type": "execute_result"
    }
   ],
   "source": [
    "'''source = \"C:\\\\Users\\\\mira\\\\Desktop\\\\Dbanyan\\\\Schema\\\\source\\\\\"\n",
    "matched = \"C:\\\\Users\\\\mira\\\\Desktop\\\\Dbanyan\\\\Schema\\\\matched\\\\\"\n",
    "unmatched = \"C:\\\\Users\\\\mira\\\\Desktop\\\\Dbanyan\\\\Schema\\\\unmatched\\\\\"\n",
    "for file_name in os.listdir(source):\n",
    "    source = \"C:\\\\Users\\\\mira\\\\Desktop\\\\Dbanyan\\\\Schema\\\\source\\\\\"\n",
    "    source = source + file_name\n",
    "    files = pd.read_csv(source)\n",
    "    matched=matched\n",
    "    unmatched=unmatched\n",
    "    if os.path.isfile(source):\n",
    "        if JSON_Schema['columns'] != dict(files.dtypes):\n",
    "            shutil.copy(source,unmatched)\n",
    "        else:\n",
    "            shutil.copy(source,matched)\n",
    "            '''"
   ]
  },
  {
   "cell_type": "code",
   "execution_count": 18,
   "id": "e87480a6",
   "metadata": {},
   "outputs": [],
   "source": [
    "source = \"C:\\\\Users\\\\mira\\\\Desktop\\\\Dbanyan\\\\Schema\\\\source\\\\\"\n",
    "matched = \"C:\\\\Users\\\\mira\\\\Desktop\\\\Dbanyan\\\\Schema\\\\matched\\\\\"\n",
    "unmatched = \"C:\\\\Users\\\\mira\\\\Desktop\\\\Dbanyan\\\\Schema\\\\unmatched\\\\\"\n",
    "for file_name in os.listdir(source):\n",
    "    source = \"C:\\\\Users\\\\mira\\\\Desktop\\\\Dbanyan\\\\Schema\\\\source\\\\\"\n",
    "    source = source + file_name\n",
    "    files = pd.read_csv(source)\n",
    "    matched=matched\n",
    "    unmatched=unmatched\n",
    "    if os.path.isfile(source):\n",
    "        if JSON_Schema['columns'] != dict(files.dtypes):\n",
    "            shutil.move(source,unmatched)\n",
    "        else:\n",
    "            shutil.move(source,matched)"
   ]
  },
  {
   "cell_type": "code",
   "execution_count": null,
   "id": "1471cb3e",
   "metadata": {},
   "outputs": [],
   "source": []
  }
 ],
 "metadata": {
  "kernelspec": {
   "display_name": "Python 3 (ipykernel)",
   "language": "python",
   "name": "python3"
  },
  "language_info": {
   "codemirror_mode": {
    "name": "ipython",
    "version": 3
   },
   "file_extension": ".py",
   "mimetype": "text/x-python",
   "name": "python",
   "nbconvert_exporter": "python",
   "pygments_lexer": "ipython3",
   "version": "3.9.13"
  }
 },
 "nbformat": 4,
 "nbformat_minor": 5
}

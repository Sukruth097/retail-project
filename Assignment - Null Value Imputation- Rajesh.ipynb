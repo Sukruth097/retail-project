{
 "cells": [
  {
   "cell_type": "markdown",
   "id": "2ccaffa5",
   "metadata": {},
   "source": [
    "# **Loading the dataset**"
   ]
  },
  {
   "cell_type": "code",
   "execution_count": 82,
   "id": "77afbd24",
   "metadata": {},
   "outputs": [],
   "source": [
    "import pandas as pd \n",
    "import numpy as np\n",
    "import time\n"
   ]
  },
  {
   "cell_type": "code",
   "execution_count": 83,
   "id": "732be04b",
   "metadata": {},
   "outputs": [],
   "source": [
    "df = pd.read_csv('Retail-data.csv')"
   ]
  },
  {
   "cell_type": "code",
   "execution_count": 84,
   "id": "1c3fe754",
   "metadata": {},
   "outputs": [
    {
     "name": "stderr",
     "output_type": "stream",
     "text": [
      "C:\\Users\\mira\\AppData\\Local\\Temp\\ipykernel_8060\\833428635.py:6: FutureWarning: Series.dt.weekofyear and Series.dt.week have been deprecated. Please use Series.dt.isocalendar().week instead.\n",
      "  df['week'] = df['hour'].dt.week\n"
     ]
    }
   ],
   "source": [
    "# converting the time object into separate columns \n",
    "\n",
    "df['hour'] = pd.to_datetime(df['hour'])\n",
    "df['year'] = df['hour'].dt.year\n",
    "df['month'] = df['hour'].dt.month\n",
    "df['week'] = df['hour'].dt.week\n",
    "df['day'] = df['hour'].dt.day\n",
    "df['name'] = df['hour'].dt.weekday"
   ]
  },
  {
   "cell_type": "code",
   "execution_count": 85,
   "id": "3cb112c7",
   "metadata": {},
   "outputs": [
    {
     "data": {
      "text/plain": [
       "hour                      datetime64[ns]\n",
       "order_id                         float64\n",
       "customer_id                      float64\n",
       "product_id                       float64\n",
       "product_price                    float64\n",
       "variant_id                       float64\n",
       "orders                             int64\n",
       "gross_sales                      float64\n",
       "discounts                        float64\n",
       "returns                          float64\n",
       "net_sales                        float64\n",
       "shipping                         float64\n",
       "taxes                            float64\n",
       "total_sales                      float64\n",
       "ordered_item_quantity              int64\n",
       "net_quantity                       int64\n",
       "returned_item_quantity             int64\n",
       "order_name                        object\n",
       "product_type                      object\n",
       "product_title                     object\n",
       "product_vendor                    object\n",
       "variant_title                     object\n",
       "api_client_title                  object\n",
       "year                               int64\n",
       "month                              int64\n",
       "week                               int64\n",
       "day                                int64\n",
       "name                               int64\n",
       "dtype: object"
      ]
     },
     "execution_count": 85,
     "metadata": {},
     "output_type": "execute_result"
    }
   ],
   "source": [
    "df.dtypes"
   ]
  },
  {
   "cell_type": "code",
   "execution_count": 86,
   "id": "2bc0614d",
   "metadata": {},
   "outputs": [
    {
     "data": {
      "text/plain": [
       "hour                          0\n",
       "order_id                      0\n",
       "customer_id                   0\n",
       "product_id                    0\n",
       "product_price                 0\n",
       "variant_id                    0\n",
       "orders                        0\n",
       "gross_sales                   0\n",
       "discounts                     0\n",
       "returns                       0\n",
       "net_sales                     0\n",
       "shipping                      0\n",
       "taxes                         0\n",
       "total_sales                   0\n",
       "ordered_item_quantity         0\n",
       "net_quantity                  0\n",
       "returned_item_quantity        0\n",
       "order_name                 5961\n",
       "product_type              22861\n",
       "product_title              6483\n",
       "product_vendor            22366\n",
       "variant_title             31316\n",
       "api_client_title           5961\n",
       "year                          0\n",
       "month                         0\n",
       "week                          0\n",
       "day                           0\n",
       "name                          0\n",
       "dtype: int64"
      ]
     },
     "execution_count": 86,
     "metadata": {},
     "output_type": "execute_result"
    }
   ],
   "source": [
    "df.isnull().sum()"
   ]
  },
  {
   "cell_type": "markdown",
   "id": "69480b3c",
   "metadata": {},
   "source": [
    "## Simple Imputer"
   ]
  },
  {
   "cell_type": "code",
   "execution_count": 87,
   "id": "3d562e6d",
   "metadata": {},
   "outputs": [],
   "source": [
    "from sklearn.impute import SimpleImputer\n",
    "#\n",
    "# Missing values is represented using NaN and hence specified. If it\n",
    "# is empty field, missing values will be specified as ''\n",
    "#\n",
    "imputer = SimpleImputer(missing_values=np.NaN, strategy='most_frequent')\n",
    " "
   ]
  },
  {
   "cell_type": "markdown",
   "id": "1a885f3d",
   "metadata": {},
   "source": [
    "### Dealing with Categorical Values"
   ]
  },
  {
   "cell_type": "code",
   "execution_count": 88,
   "id": "3abc954d",
   "metadata": {},
   "outputs": [
    {
     "name": "stdout",
     "output_type": "stream",
     "text": [
      "--- 0.1436161994934082 seconds ---\n"
     ]
    }
   ],
   "source": [
    "start_time = time.time()\n",
    "df['order_name']= imputer.fit_transform(df['order_name'].values.reshape(-1,1))[:,0]\n",
    "df['product_type']= imputer.fit_transform(df['product_type'].values.reshape(-1,1))[:,0]\n",
    "df['product_title']= imputer.fit_transform(df['product_title'].values.reshape(-1,1))[:,0]\n",
    "\n",
    "df['product_vendor']= imputer.fit_transform(df['product_vendor'].values.reshape(-1,1))[:,0]\n",
    "df['variant_title']= imputer.fit_transform(df['variant_title'].values.reshape(-1,1))[:,0]\n",
    "df['api_client_title']= imputer.fit_transform(df['api_client_title'].values.reshape(-1,1))[:,0]\n",
    "\n",
    "print(\"--- %s seconds ---\" % (time.time() - start_time))\n"
   ]
  },
  {
   "cell_type": "code",
   "execution_count": 89,
   "id": "e4eba817",
   "metadata": {},
   "outputs": [
    {
     "data": {
      "text/plain": [
       "hour                      0\n",
       "order_id                  0\n",
       "customer_id               0\n",
       "product_id                0\n",
       "product_price             0\n",
       "variant_id                0\n",
       "orders                    0\n",
       "gross_sales               0\n",
       "discounts                 0\n",
       "returns                   0\n",
       "net_sales                 0\n",
       "shipping                  0\n",
       "taxes                     0\n",
       "total_sales               0\n",
       "ordered_item_quantity     0\n",
       "net_quantity              0\n",
       "returned_item_quantity    0\n",
       "order_name                0\n",
       "product_type              0\n",
       "product_title             0\n",
       "product_vendor            0\n",
       "variant_title             0\n",
       "api_client_title          0\n",
       "year                      0\n",
       "month                     0\n",
       "week                      0\n",
       "day                       0\n",
       "name                      0\n",
       "dtype: int64"
      ]
     },
     "execution_count": 89,
     "metadata": {},
     "output_type": "execute_result"
    }
   ],
   "source": [
    "df.isnull().sum()"
   ]
  },
  {
   "cell_type": "code",
   "execution_count": 90,
   "id": "5ddd9cd8",
   "metadata": {},
   "outputs": [
    {
     "data": {
      "text/plain": [
       "hour                      0\n",
       "order_id                  0\n",
       "customer_id               0\n",
       "product_id                0\n",
       "product_price             0\n",
       "variant_id                0\n",
       "orders                    0\n",
       "gross_sales               0\n",
       "discounts                 0\n",
       "returns                   0\n",
       "net_sales                 0\n",
       "shipping                  0\n",
       "taxes                     0\n",
       "total_sales               0\n",
       "ordered_item_quantity     0\n",
       "net_quantity              0\n",
       "returned_item_quantity    0\n",
       "order_name                0\n",
       "product_type              0\n",
       "product_title             0\n",
       "product_vendor            0\n",
       "variant_title             0\n",
       "api_client_title          0\n",
       "year                      0\n",
       "month                     0\n",
       "week                      0\n",
       "day                       0\n",
       "name                      0\n",
       "dtype: int64"
      ]
     },
     "execution_count": 90,
     "metadata": {},
     "output_type": "execute_result"
    }
   ],
   "source": [
    "df.isnull().sum()"
   ]
  },
  {
   "cell_type": "markdown",
   "id": "cf9bd002",
   "metadata": {},
   "source": [
    "### Dealing with numeric variables with mean values"
   ]
  },
  {
   "cell_type": "code",
   "execution_count": 91,
   "id": "ca67c7f0",
   "metadata": {},
   "outputs": [],
   "source": [
    "imputer_num_mean = SimpleImputer(missing_values=np.NaN, strategy='mean')"
   ]
  },
  {
   "cell_type": "code",
   "execution_count": 92,
   "id": "fc86d19b",
   "metadata": {},
   "outputs": [
    {
     "name": "stdout",
     "output_type": "stream",
     "text": [
      "--- 0.31615281105041504 seconds ---\n"
     ]
    }
   ],
   "source": [
    "start_time = time.time()\n",
    "\n",
    "df['order_id']=imputer_num_mean.fit_transform(df[['order_id']])\n",
    "#df['hour']=imputer_num_mean.fit_transform(df[['hour']])\n",
    "df['customer_id']=imputer_num_mean.fit_transform(df[['customer_id']])\n",
    "df['product_id']=imputer_num_mean.fit_transform(df[['product_id']])\n",
    "df['product_price']=imputer_num_mean.fit_transform(df[['product_price']])\n",
    "df['variant_id']=imputer_num_mean.fit_transform(df[['variant_id']])\n",
    "df['gross_sales']=imputer_num_mean.fit_transform(df[['gross_sales']])\n",
    "df['discounts']=imputer_num_mean.fit_transform(df[['discounts']])\n",
    "df['returns']=imputer_num_mean.fit_transform(df[['returns']])\n",
    "df['net_sales']=imputer_num_mean.fit_transform(df[['net_sales']])\n",
    "df['shipping']=imputer_num_mean.fit_transform(df[['shipping']])\n",
    "df['taxes']=imputer_num_mean.fit_transform(df[['taxes']])\n",
    "df['total_sales']=imputer_num_mean.fit_transform(df[['total_sales']])\n",
    "df['ordered_item_quantity']=imputer_num_mean.fit_transform(df[['ordered_item_quantity']])\n",
    "df['net_quantity']=imputer_num_mean.fit_transform(df[['net_quantity']])\n",
    "df['returned_item_quantity']=imputer_num_mean.fit_transform(df[['returned_item_quantity']])\n",
    "\n",
    "print(\"--- %s seconds ---\" % (time.time() - start_time))"
   ]
  },
  {
   "cell_type": "markdown",
   "id": "7adcae6a",
   "metadata": {},
   "source": [
    "# MICE Iterative Imputer"
   ]
  },
  {
   "cell_type": "code",
   "execution_count": 109,
   "id": "a396d3f2",
   "metadata": {},
   "outputs": [],
   "source": [
    "df1 = pd.read_csv('Retail-data.csv')"
   ]
  },
  {
   "cell_type": "code",
   "execution_count": 117,
   "id": "e1e72c92",
   "metadata": {},
   "outputs": [
    {
     "data": {
      "text/html": [
       "<div>\n",
       "<style scoped>\n",
       "    .dataframe tbody tr th:only-of-type {\n",
       "        vertical-align: middle;\n",
       "    }\n",
       "\n",
       "    .dataframe tbody tr th {\n",
       "        vertical-align: top;\n",
       "    }\n",
       "\n",
       "    .dataframe thead th {\n",
       "        text-align: right;\n",
       "    }\n",
       "</style>\n",
       "<table border=\"1\" class=\"dataframe\">\n",
       "  <thead>\n",
       "    <tr style=\"text-align: right;\">\n",
       "      <th></th>\n",
       "      <th>count</th>\n",
       "      <th>mean</th>\n",
       "      <th>std</th>\n",
       "      <th>min</th>\n",
       "      <th>25%</th>\n",
       "      <th>50%</th>\n",
       "      <th>75%</th>\n",
       "      <th>max</th>\n",
       "    </tr>\n",
       "  </thead>\n",
       "  <tbody>\n",
       "    <tr>\n",
       "      <th>order_id</th>\n",
       "      <td>101929.0</td>\n",
       "      <td>4.166395e+12</td>\n",
       "      <td>1.084800e+12</td>\n",
       "      <td>0.00</td>\n",
       "      <td>4.013270e+12</td>\n",
       "      <td>4.580600e+12</td>\n",
       "      <td>4.677140e+12</td>\n",
       "      <td>4.766070e+12</td>\n",
       "    </tr>\n",
       "    <tr>\n",
       "      <th>customer_id</th>\n",
       "      <td>101929.0</td>\n",
       "      <td>4.646366e+12</td>\n",
       "      <td>1.895350e+12</td>\n",
       "      <td>0.00</td>\n",
       "      <td>5.269060e+12</td>\n",
       "      <td>5.283720e+12</td>\n",
       "      <td>5.380540e+12</td>\n",
       "      <td>6.229830e+12</td>\n",
       "    </tr>\n",
       "    <tr>\n",
       "      <th>product_id</th>\n",
       "      <td>101929.0</td>\n",
       "      <td>5.164254e+12</td>\n",
       "      <td>2.765212e+12</td>\n",
       "      <td>0.00</td>\n",
       "      <td>5.908390e+12</td>\n",
       "      <td>6.659360e+12</td>\n",
       "      <td>6.747460e+12</td>\n",
       "      <td>7.706230e+12</td>\n",
       "    </tr>\n",
       "    <tr>\n",
       "      <th>product_price</th>\n",
       "      <td>101929.0</td>\n",
       "      <td>3.029806e+00</td>\n",
       "      <td>3.000681e+00</td>\n",
       "      <td>0.00</td>\n",
       "      <td>1.350000e+00</td>\n",
       "      <td>2.390000e+00</td>\n",
       "      <td>3.790000e+00</td>\n",
       "      <td>1.290000e+02</td>\n",
       "    </tr>\n",
       "    <tr>\n",
       "      <th>variant_id</th>\n",
       "      <td>101929.0</td>\n",
       "      <td>3.107043e+13</td>\n",
       "      <td>1.654758e+13</td>\n",
       "      <td>0.00</td>\n",
       "      <td>3.696630e+13</td>\n",
       "      <td>3.994250e+13</td>\n",
       "      <td>4.017080e+13</td>\n",
       "      <td>4.304960e+13</td>\n",
       "    </tr>\n",
       "    <tr>\n",
       "      <th>orders</th>\n",
       "      <td>101929.0</td>\n",
       "      <td>9.349253e-01</td>\n",
       "      <td>2.466588e-01</td>\n",
       "      <td>0.00</td>\n",
       "      <td>1.000000e+00</td>\n",
       "      <td>1.000000e+00</td>\n",
       "      <td>1.000000e+00</td>\n",
       "      <td>1.000000e+00</td>\n",
       "    </tr>\n",
       "    <tr>\n",
       "      <th>gross_sales</th>\n",
       "      <td>101929.0</td>\n",
       "      <td>6.113423e+00</td>\n",
       "      <td>6.179441e+00</td>\n",
       "      <td>0.00</td>\n",
       "      <td>2.800000e+00</td>\n",
       "      <td>4.720000e+00</td>\n",
       "      <td>7.320000e+00</td>\n",
       "      <td>2.132200e+02</td>\n",
       "    </tr>\n",
       "    <tr>\n",
       "      <th>discounts</th>\n",
       "      <td>101929.0</td>\n",
       "      <td>-1.589695e-01</td>\n",
       "      <td>9.943808e-01</td>\n",
       "      <td>-69.50</td>\n",
       "      <td>0.000000e+00</td>\n",
       "      <td>0.000000e+00</td>\n",
       "      <td>0.000000e+00</td>\n",
       "      <td>0.000000e+00</td>\n",
       "    </tr>\n",
       "    <tr>\n",
       "      <th>returns</th>\n",
       "      <td>101929.0</td>\n",
       "      <td>-1.939880e-02</td>\n",
       "      <td>6.742853e-01</td>\n",
       "      <td>-90.06</td>\n",
       "      <td>0.000000e+00</td>\n",
       "      <td>0.000000e+00</td>\n",
       "      <td>0.000000e+00</td>\n",
       "      <td>3.132000e+01</td>\n",
       "    </tr>\n",
       "    <tr>\n",
       "      <th>net_sales</th>\n",
       "      <td>101929.0</td>\n",
       "      <td>5.935055e+00</td>\n",
       "      <td>6.052408e+00</td>\n",
       "      <td>-90.06</td>\n",
       "      <td>2.740000e+00</td>\n",
       "      <td>4.560000e+00</td>\n",
       "      <td>7.300000e+00</td>\n",
       "      <td>2.132200e+02</td>\n",
       "    </tr>\n",
       "    <tr>\n",
       "      <th>shipping</th>\n",
       "      <td>101929.0</td>\n",
       "      <td>4.022212e-03</td>\n",
       "      <td>2.187398e-01</td>\n",
       "      <td>-11.48</td>\n",
       "      <td>0.000000e+00</td>\n",
       "      <td>0.000000e+00</td>\n",
       "      <td>0.000000e+00</td>\n",
       "      <td>1.148000e+01</td>\n",
       "    </tr>\n",
       "    <tr>\n",
       "      <th>taxes</th>\n",
       "      <td>101929.0</td>\n",
       "      <td>5.300688e-01</td>\n",
       "      <td>7.011460e-01</td>\n",
       "      <td>-18.92</td>\n",
       "      <td>1.600000e-01</td>\n",
       "      <td>3.800000e-01</td>\n",
       "      <td>6.600000e-01</td>\n",
       "      <td>4.478000e+01</td>\n",
       "    </tr>\n",
       "    <tr>\n",
       "      <th>total_sales</th>\n",
       "      <td>101929.0</td>\n",
       "      <td>6.469145e+00</td>\n",
       "      <td>6.655866e+00</td>\n",
       "      <td>-108.98</td>\n",
       "      <td>2.980000e+00</td>\n",
       "      <td>4.980000e+00</td>\n",
       "      <td>7.960000e+00</td>\n",
       "      <td>2.580000e+02</td>\n",
       "    </tr>\n",
       "    <tr>\n",
       "      <th>ordered_item_quantity</th>\n",
       "      <td>101929.0</td>\n",
       "      <td>1.080939e+00</td>\n",
       "      <td>6.209893e-01</td>\n",
       "      <td>0.00</td>\n",
       "      <td>1.000000e+00</td>\n",
       "      <td>1.000000e+00</td>\n",
       "      <td>1.000000e+00</td>\n",
       "      <td>2.400000e+01</td>\n",
       "    </tr>\n",
       "    <tr>\n",
       "      <th>net_quantity</th>\n",
       "      <td>101929.0</td>\n",
       "      <td>1.078486e+00</td>\n",
       "      <td>6.264933e-01</td>\n",
       "      <td>-7.00</td>\n",
       "      <td>1.000000e+00</td>\n",
       "      <td>1.000000e+00</td>\n",
       "      <td>1.000000e+00</td>\n",
       "      <td>2.400000e+01</td>\n",
       "    </tr>\n",
       "    <tr>\n",
       "      <th>returned_item_quantity</th>\n",
       "      <td>101929.0</td>\n",
       "      <td>-2.452688e-03</td>\n",
       "      <td>5.921374e-02</td>\n",
       "      <td>-7.00</td>\n",
       "      <td>0.000000e+00</td>\n",
       "      <td>0.000000e+00</td>\n",
       "      <td>0.000000e+00</td>\n",
       "      <td>0.000000e+00</td>\n",
       "    </tr>\n",
       "  </tbody>\n",
       "</table>\n",
       "</div>"
      ],
      "text/plain": [
       "                           count          mean           std     min  \\\n",
       "order_id                101929.0  4.166395e+12  1.084800e+12    0.00   \n",
       "customer_id             101929.0  4.646366e+12  1.895350e+12    0.00   \n",
       "product_id              101929.0  5.164254e+12  2.765212e+12    0.00   \n",
       "product_price           101929.0  3.029806e+00  3.000681e+00    0.00   \n",
       "variant_id              101929.0  3.107043e+13  1.654758e+13    0.00   \n",
       "orders                  101929.0  9.349253e-01  2.466588e-01    0.00   \n",
       "gross_sales             101929.0  6.113423e+00  6.179441e+00    0.00   \n",
       "discounts               101929.0 -1.589695e-01  9.943808e-01  -69.50   \n",
       "returns                 101929.0 -1.939880e-02  6.742853e-01  -90.06   \n",
       "net_sales               101929.0  5.935055e+00  6.052408e+00  -90.06   \n",
       "shipping                101929.0  4.022212e-03  2.187398e-01  -11.48   \n",
       "taxes                   101929.0  5.300688e-01  7.011460e-01  -18.92   \n",
       "total_sales             101929.0  6.469145e+00  6.655866e+00 -108.98   \n",
       "ordered_item_quantity   101929.0  1.080939e+00  6.209893e-01    0.00   \n",
       "net_quantity            101929.0  1.078486e+00  6.264933e-01   -7.00   \n",
       "returned_item_quantity  101929.0 -2.452688e-03  5.921374e-02   -7.00   \n",
       "\n",
       "                                 25%           50%           75%           max  \n",
       "order_id                4.013270e+12  4.580600e+12  4.677140e+12  4.766070e+12  \n",
       "customer_id             5.269060e+12  5.283720e+12  5.380540e+12  6.229830e+12  \n",
       "product_id              5.908390e+12  6.659360e+12  6.747460e+12  7.706230e+12  \n",
       "product_price           1.350000e+00  2.390000e+00  3.790000e+00  1.290000e+02  \n",
       "variant_id              3.696630e+13  3.994250e+13  4.017080e+13  4.304960e+13  \n",
       "orders                  1.000000e+00  1.000000e+00  1.000000e+00  1.000000e+00  \n",
       "gross_sales             2.800000e+00  4.720000e+00  7.320000e+00  2.132200e+02  \n",
       "discounts               0.000000e+00  0.000000e+00  0.000000e+00  0.000000e+00  \n",
       "returns                 0.000000e+00  0.000000e+00  0.000000e+00  3.132000e+01  \n",
       "net_sales               2.740000e+00  4.560000e+00  7.300000e+00  2.132200e+02  \n",
       "shipping                0.000000e+00  0.000000e+00  0.000000e+00  1.148000e+01  \n",
       "taxes                   1.600000e-01  3.800000e-01  6.600000e-01  4.478000e+01  \n",
       "total_sales             2.980000e+00  4.980000e+00  7.960000e+00  2.580000e+02  \n",
       "ordered_item_quantity   1.000000e+00  1.000000e+00  1.000000e+00  2.400000e+01  \n",
       "net_quantity            1.000000e+00  1.000000e+00  1.000000e+00  2.400000e+01  \n",
       "returned_item_quantity  0.000000e+00  0.000000e+00  0.000000e+00  0.000000e+00  "
      ]
     },
     "execution_count": 117,
     "metadata": {},
     "output_type": "execute_result"
    }
   ],
   "source": [
    "df1.describe().transpose()"
   ]
  },
  {
   "cell_type": "code",
   "execution_count": 110,
   "id": "c540e0e7",
   "metadata": {},
   "outputs": [],
   "source": [
    "from sklearn.experimental import enable_iterative_imputer\n",
    "from sklearn.impute import IterativeImputer\n",
    "from sklearn.linear_model import LinearRegression"
   ]
  },
  {
   "cell_type": "code",
   "execution_count": 111,
   "id": "d97fa05a",
   "metadata": {},
   "outputs": [],
   "source": [
    "start_time = time.time()"
   ]
  },
  {
   "cell_type": "code",
   "execution_count": 112,
   "id": "1ec77b68",
   "metadata": {},
   "outputs": [],
   "source": [
    "lr = LinearRegression()"
   ]
  },
  {
   "cell_type": "code",
   "execution_count": 113,
   "id": "c9371675",
   "metadata": {},
   "outputs": [],
   "source": [
    "imp = IterativeImputer(estimator=lr, verbose=2, max_iter=10, tol= 1e-10, imputation_order='roman')"
   ]
  },
  {
   "cell_type": "code",
   "execution_count": 115,
   "id": "ef4630c9",
   "metadata": {},
   "outputs": [
    {
     "name": "stdout",
     "output_type": "stream",
     "text": [
      "[IterativeImputer] Completing matrix with shape (101929, 16)\n",
      "[IterativeImputer] Ending imputation round 1/10, elapsed time 1.49\n",
      "[IterativeImputer] Change: 0.0, scaled tolerance: 4304.96 \n",
      "[IterativeImputer] Early stopping criterion reached.\n"
     ]
    },
    {
     "data": {
      "text/plain": [
       "array([[0., 0., 0., ..., 0., 0., 0.],\n",
       "       [0., 0., 0., ..., 0., 0., 0.],\n",
       "       [0., 0., 0., ..., 0., 0., 0.],\n",
       "       ...,\n",
       "       [0., 0., 0., ..., 0., 0., 0.],\n",
       "       [0., 0., 0., ..., 0., 0., 0.],\n",
       "       [0., 0., 0., ..., 0., 0., 0.]])"
      ]
     },
     "execution_count": 115,
     "metadata": {},
     "output_type": "execute_result"
    }
   ],
   "source": [
    "imp.fit_transform(df1.drop(['hour', 'order_name',\n",
    "                          'product_type', 'product_title',\n",
    "                          'product_vendor', 'variant_title',\n",
    "                          'variant_title','api_client_title'] ,axis=1))"
   ]
  },
  {
   "cell_type": "code",
   "execution_count": 116,
   "id": "8473dd36",
   "metadata": {},
   "outputs": [
    {
     "name": "stdout",
     "output_type": "stream",
     "text": [
      "--- 85.88836240768433 seconds ---\n"
     ]
    }
   ],
   "source": [
    "print(\"--- %s seconds ---\" % (time.time() - start_time))"
   ]
  },
  {
   "cell_type": "code",
   "execution_count": null,
   "id": "51efdbd2",
   "metadata": {},
   "outputs": [],
   "source": []
  }
 ],
 "metadata": {
  "kernelspec": {
   "display_name": "Python 3 (ipykernel)",
   "language": "python",
   "name": "python3"
  },
  "language_info": {
   "codemirror_mode": {
    "name": "ipython",
    "version": 3
   },
   "file_extension": ".py",
   "mimetype": "text/x-python",
   "name": "python",
   "nbconvert_exporter": "python",
   "pygments_lexer": "ipython3",
   "version": "3.9.13"
  }
 },
 "nbformat": 4,
 "nbformat_minor": 5
}

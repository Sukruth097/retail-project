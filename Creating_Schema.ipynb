{
 "cells": [
  {
   "cell_type": "code",
   "execution_count": 1,
   "id": "5fd018fd",
   "metadata": {},
   "outputs": [],
   "source": [
    "import os\n",
    "import json\n",
    "import shutil\n",
    "import glob\n",
    "import pandas as pd"
   ]
  },
  {
   "cell_type": "code",
   "execution_count": 2,
   "id": "d57ad8f3",
   "metadata": {},
   "outputs": [],
   "source": [
    "os.makedirs('validated', exist_ok=True)\n",
    "os.makedirs('unvalidated', exist_ok=True)"
   ]
  },
  {
   "cell_type": "code",
   "execution_count": 3,
   "id": "9839adb1",
   "metadata": {},
   "outputs": [],
   "source": [
    "df = pd.read_csv('Retail_data.csv')"
   ]
  },
  {
   "cell_type": "code",
   "execution_count": 10,
   "id": "3327d256",
   "metadata": {},
   "outputs": [
    {
     "name": "stdout",
     "output_type": "stream",
     "text": [
      "C:\\Users\\SONY\\Desktop\\DBanyan\\Retail_data.csv\n"
     ]
    }
   ],
   "source": [
    "path = 'C:\\\\Users\\\\SONY\\\\Desktop\\\\DBanyan\\\\'\n",
    "#for files in glob.glob(path + '*.csv'):\n",
    "    #print(files)"
   ]
  },
  {
   "cell_type": "code",
   "execution_count": 12,
   "id": "5f8b9577",
   "metadata": {},
   "outputs": [
    {
     "name": "stdout",
     "output_type": "stream",
     "text": [
      "Retail_data.csv\n"
     ]
    }
   ],
   "source": [
    "#head, tail = os.path.split(files)\n",
    "#print(tail)"
   ]
  },
  {
   "cell_type": "code",
   "execution_count": 13,
   "id": "86760505",
   "metadata": {},
   "outputs": [
    {
     "data": {
      "text/plain": [
       "Index(['hour', 'order_id', 'customer_id', 'product_id', 'product_price',\n",
       "       'variant_id', 'orders', 'gross_sales', 'discounts', 'returns',\n",
       "       'net_sales', 'shipping', 'taxes', 'total_sales',\n",
       "       'ordered_item_quantity', 'net_quantity', 'returned_item_quantity',\n",
       "       'order_name', 'product_type', 'product_title', 'product_vendor',\n",
       "       'variant_title', 'api_client_title'],\n",
       "      dtype='object')"
      ]
     },
     "execution_count": 13,
     "metadata": {},
     "output_type": "execute_result"
    }
   ],
   "source": [
    "df.columns"
   ]
  },
  {
   "cell_type": "code",
   "execution_count": 14,
   "id": "fec51169",
   "metadata": {},
   "outputs": [
    {
     "data": {
      "text/plain": [
       "array([dtype('O'), dtype('float64'), dtype('float64'), dtype('float64'),\n",
       "       dtype('float64'), dtype('float64'), dtype('int64'),\n",
       "       dtype('float64'), dtype('float64'), dtype('float64'),\n",
       "       dtype('float64'), dtype('float64'), dtype('float64'),\n",
       "       dtype('float64'), dtype('int64'), dtype('int64'), dtype('int64'),\n",
       "       dtype('O'), dtype('O'), dtype('O'), dtype('O'), dtype('O'),\n",
       "       dtype('O')], dtype=object)"
      ]
     },
     "execution_count": 14,
     "metadata": {},
     "output_type": "execute_result"
    }
   ],
   "source": [
    "df.dtypes.values"
   ]
  },
  {
   "cell_type": "code",
   "execution_count": 15,
   "id": "85b59727",
   "metadata": {},
   "outputs": [],
   "source": [
    "a= list(map(lambda x:str(x).replace('dtype(', \"\").replace(')',\"\"),df.dtypes.values))"
   ]
  },
  {
   "cell_type": "code",
   "execution_count": 16,
   "id": "61e397be",
   "metadata": {},
   "outputs": [],
   "source": [
    "d = df.columns"
   ]
  },
  {
   "cell_type": "code",
   "execution_count": 17,
   "id": "8346a29e",
   "metadata": {},
   "outputs": [],
   "source": [
    "dict_columns= dict(zip(d,a))"
   ]
  },
  {
   "cell_type": "code",
   "execution_count": 18,
   "id": "89c8f249",
   "metadata": {},
   "outputs": [],
   "source": [
    "Columns= {\"Columns\": dict_columns}"
   ]
  },
  {
   "cell_type": "code",
   "execution_count": 19,
   "id": "9ceab261",
   "metadata": {},
   "outputs": [],
   "source": [
    "with open(\"Schema.json\", \"w\") as jsonFile:\n",
    "    json.dump(Columns, jsonFile)"
   ]
  },
  {
   "cell_type": "code",
   "execution_count": 20,
   "id": "bb063f28",
   "metadata": {},
   "outputs": [
    {
     "data": {
      "text/plain": [
       "23"
      ]
     },
     "execution_count": 20,
     "metadata": {},
     "output_type": "execute_result"
    }
   ],
   "source": [
    "#len(df.columns)"
   ]
  },
  {
   "cell_type": "code",
   "execution_count": 27,
   "id": "67b71b7c",
   "metadata": {},
   "outputs": [
    {
     "name": "stdout",
     "output_type": "stream",
     "text": [
      "23\n"
     ]
    }
   ],
   "source": [
    "#with open('Schema.json', 'r') as JSONFile:\n",
    "    #item_dict = json.load(JSONFile)\n",
    "#print(len(item_dict['Columns']))"
   ]
  },
  {
   "cell_type": "code",
   "execution_count": 36,
   "id": "bee04477",
   "metadata": {},
   "outputs": [],
   "source": [
    "class validation:\n",
    "    def __init__(self,df):\n",
    "        self.df = df\n",
    "    \n",
    "    def validation_file(self):\n",
    "        for files in glob.glob(path + '*.csv'):\n",
    "            head, tail = os.path.split(files)\n",
    "            if tail == 'Retail_data.csv':\n",
    "                with open('Schema.json', 'r') as JSONFile:\n",
    "                    item_dict = json.load(JSONFile)\n",
    "                    if len(item_dict['Columns']) == len(df.columns):\n",
    "                        shutil.move(tail, 'validated')\n",
    "                    else:\n",
    "                        shutil.move(tail, 'unvalidated')\n",
    "            else:\n",
    "                shutil.move(tail, 'unvalidated')\n",
    "            "
   ]
  },
  {
   "cell_type": "code",
   "execution_count": 37,
   "id": "168bb0d2",
   "metadata": {},
   "outputs": [],
   "source": [
    "valid = validation(df)"
   ]
  },
  {
   "cell_type": "code",
   "execution_count": 38,
   "id": "604431f2",
   "metadata": {},
   "outputs": [],
   "source": [
    "valid.validation_file()"
   ]
  },
  {
   "cell_type": "code",
   "execution_count": null,
   "id": "3a9f56da",
   "metadata": {},
   "outputs": [],
   "source": []
  }
 ],
 "metadata": {
  "kernelspec": {
   "display_name": "Python 3",
   "language": "python",
   "name": "python3"
  },
  "language_info": {
   "codemirror_mode": {
    "name": "ipython",
    "version": 3
   },
   "file_extension": ".py",
   "mimetype": "text/x-python",
   "name": "python",
   "nbconvert_exporter": "python",
   "pygments_lexer": "ipython3",
   "version": "3.8.8"
  }
 },
 "nbformat": 4,
 "nbformat_minor": 5
}
